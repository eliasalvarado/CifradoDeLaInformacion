{
 "cells": [
  {
   "cell_type": "markdown",
   "metadata": {},
   "source": [
    "# Ejercicio Stream Cipher"
   ]
  },
  {
   "cell_type": "code",
   "execution_count": 1,
   "metadata": {},
   "outputs": [],
   "source": [
    "import random"
   ]
  },
  {
   "cell_type": "code",
   "execution_count": 3,
   "metadata": {},
   "outputs": [],
   "source": [
    "def decimalToBinary(decimal, bits=8):\n",
    "    binary = ''\n",
    "    while decimal > 0:\n",
    "        binary = str(decimal % 2) + binary\n",
    "        decimal = decimal // 2\n",
    "    \n",
    "    binary = binary.rjust(bits, '0')\n",
    "    return binary\n",
    "\n",
    "def ascciToBinary(ascci):\n",
    "    return ' '.join(decimalToBinary(ord(char)) for char in ascci)\n",
    "\n",
    "def binaryToAscii(binary):\n",
    "    binary = binary.replace(\" \", \"\")\n",
    "    return ''.join(chr(int(binary[i:i + 8], 2)) for i in range(0, len(binary), 8))\n",
    "\n",
    "def xor(text, key):\n",
    "    #text = cleanText(text)\n",
    "    #key = cleanText(key)\n",
    "\n",
    "    if len(text) > len(key):\n",
    "        key = key * (len(text) // len(key)) + key[:len(text) % len(key)]\n",
    "    elif len(text) < len(key):\n",
    "        key = key[:len(text)]\n",
    "        \n",
    "    bin1 = ascciToBinary(text).replace(\" \", \"\")\n",
    "    bin2 = ascciToBinary(key).replace(\" \", \"\")\n",
    "\n",
    "    res = \"\"\n",
    "    for i in range(len(bin1)):\n",
    "        if bin1[i] == bin2[i]:\n",
    "            res += \"0\"\n",
    "        else:\n",
    "            res += \"1\"\n",
    "    return res"
   ]
  },
  {
   "cell_type": "markdown",
   "metadata": {},
   "source": [
    "# 1. Generación de Keystream"
   ]
  },
  {
   "cell_type": "markdown",
   "metadata": {},
   "source": [
    "## Un generador de números pseudoaleatorios (PRNG) básico"
   ]
  },
  {
   "cell_type": "code",
   "execution_count": 10,
   "metadata": {},
   "outputs": [],
   "source": [
    "def keystreamGenerator(lenght, seed):\n",
    "    random.seed(seed)\n",
    "    return \"\".join(str(random.randint(32, 126)) for _ in range(lenght))"
   ]
  },
  {
   "cell_type": "markdown",
   "metadata": {},
   "source": [
    "# 2. Cifrado"
   ]
  },
  {
   "cell_type": "code",
   "execution_count": 12,
   "metadata": {},
   "outputs": [],
   "source": [
    "def encrypt(mensaje, keystream):\n",
    "    return binaryToAscii(xor(mensaje, keystream))"
   ]
  },
  {
   "cell_type": "markdown",
   "metadata": {},
   "source": [
    "# 3. Descifrado"
   ]
  },
  {
   "cell_type": "code",
   "execution_count": 6,
   "metadata": {},
   "outputs": [],
   "source": [
    "def decryption(cipher, keystream):\n",
    "    return binaryToAscii(xor(cipher, keystream))"
   ]
  },
  {
   "cell_type": "markdown",
   "metadata": {},
   "source": [
    "# 4. Preguntas a Responder"
   ]
  },
  {
   "cell_type": "markdown",
   "metadata": {},
   "source": [
    "## ¿Qué sucede cuando cambias la clave utilizada para generar el keystream?"
   ]
  },
  {
   "cell_type": "markdown",
   "metadata": {},
   "source": [
    "Si se cambia la clave utilizada para generar el keystream, el mensaje cambiaría por completo. Obviamente, ya que al estar aplicando un XOR con otra llave el mensaje tomará un valor incorrecto. Si tengo el mensaje _m_ y la llave _k1_ con la que cifro _m_ obtengo _c1_; ahora, si intento descifrar _c1_ con _k1_, resulta en _d1_ el cual obviamente es igual a _m_, pero si lo hago con otra llave _k2_ el _d2_ obtenido NO será igual que _m_. Ya que la llave no fue correcta a la hora de cifrar."
   ]
  },
  {
   "cell_type": "code",
   "execution_count": 18,
   "metadata": {},
   "outputs": [
    {
     "name": "stdout",
     "output_type": "stream",
     "text": [
      "m: Hola mundo\n",
      "c1: y_YP\u0010_@\\U^\n",
      "m1: Hola mundo\n",
      "m2: Ajni%jtnbn\n"
     ]
    }
   ],
   "source": [
    "m = \"Hola mundo\"\n",
    "seed1 = \"llave1\"\n",
    "seed2 = \"llave2\"\n",
    "\n",
    "k1 = keystreamGenerator(len(m), seed1)\n",
    "k2 = keystreamGenerator(len(m), seed2)\n",
    "\n",
    "c1 = encrypt(m, k1)\n",
    "d1 = decryption(c1, k1)\n",
    "d2 = decryption(c1, k2) # cambio de llave, no será igual a m\n",
    "\n",
    "print(\"m:\", m)\n",
    "print(\"c1:\", c1)\n",
    "print(\"m1:\", d1)\n",
    "print(\"m2:\", d2)"
   ]
  },
  {
   "cell_type": "markdown",
   "metadata": {},
   "source": [
    "## ¿Qué riesgos de seguridad existen si reutilizas el mismo keystream para cifrar dos mensajes diferentes?"
   ]
  },
  {
   "cell_type": "markdown",
   "metadata": {},
   "source": [
    "El problema con utilizar el mismo keystream es que los cifrados obtenidos pueden llegar a ser analizados bajo un análisis de frecuencia, el cuál es más que suficiente para llevar a obtener el seed con el que el keystream fue generado."
   ]
  },
  {
   "cell_type": "markdown",
   "metadata": {},
   "source": [
    "## ¿Cómo afecta la longitud del keystream a la seguridad del cifrado?"
   ]
  },
  {
   "cell_type": "markdown",
   "metadata": {},
   "source": [
    "La longitud debe de ser mínimo del mismo largo que el mensaje. Caso contrario, se tendrá que reutilizar parte del keystream, abriendo una vulnerabilidad. La cual sería que igual con un simple análisis de frecuencias el atacante pueda obtener información valiosa de este e incluso poder descifrar cuál fue el keystream utilizado si tiene más datos."
   ]
  },
  {
   "cell_type": "markdown",
   "metadata": {},
   "source": [
    "## ¿Qué consideraciones debes tener al generar un keystream en un entorno real?"
   ]
  },
  {
   "cell_type": "markdown",
   "metadata": {},
   "source": [
    "Con asegurarse que se trate de la generación de un keystream TRNG, es un buen primer paso para que la integración al entorno real tenga una buena segurida. Obviamente también se debe tener en cuenta que el keystream solo se debe de utilizar una vez y debe de ser MÍNIMO del largo del mensaje. "
   ]
  },
  {
   "cell_type": "markdown",
   "metadata": {},
   "source": [
    "# Reflexión"
   ]
  },
  {
   "cell_type": "markdown",
   "metadata": {},
   "source": [
    "Siempre es bueno recordar el hecho que los randoms que utilizamos cotidianamente NO son realmente randoms, son algoritmos pseudoaleatorios. Los cuales en algún punto se podrán obtener dada su repetición. Pero al momento de aplicar hechos externos, tales como el uso de sensores de temas ambientales o hardware se puede llegar a una solución más segura. Al tener una generación de randoms reales se puede tener un grado de certeza que el sistema es más seguro."
   ]
  },
  {
   "cell_type": "markdown",
   "metadata": {},
   "source": [
    "# Pruebas unitarias"
   ]
  },
  {
   "cell_type": "code",
   "execution_count": null,
   "metadata": {},
   "outputs": [
    {
     "name": "stderr",
     "output_type": "stream",
     "text": [
      ".FF\n",
      "======================================================================\n",
      "FAIL: test_encrypt_decrypt_with_error1 (__main__.TestKeystreamFunctions)\n",
      "----------------------------------------------------------------------\n",
      "Traceback (most recent call last):\n",
      "  File \"C:\\Users\\ealva\\AppData\\Local\\Temp\\ipykernel_14804\\4011287499.py\", line 20, in test_encrypt_decrypt_with_error1\n",
      "    self.assertEqual(descifrado, mensaje)\n",
      "AssertionError: 'Meohh' != 'Hello'\n",
      "- Meohh\n",
      "+ Hello\n",
      "\n",
      "\n",
      "======================================================================\n",
      "FAIL: test_encrypt_decrypt_with_error2 (__main__.TestKeystreamFunctions)\n",
      "----------------------------------------------------------------------\n",
      "Traceback (most recent call last):\n",
      "  File \"C:\\Users\\ealva\\AppData\\Local\\Temp\\ipykernel_14804\\4011287499.py\", line 29, in test_encrypt_decrypt_with_error2\n",
      "    self.assertEqual(descifrado, mensaje)\n",
      "AssertionError: 'Heiom' != 'Hello'\n",
      "- Heiom\n",
      "+ Hello\n",
      "\n",
      "\n",
      "----------------------------------------------------------------------\n",
      "Ran 3 tests in 0.004s\n",
      "\n",
      "FAILED (failures=2)\n"
     ]
    }
   ],
   "source": [
    "# Pruebas generadas con ChatGPT https://chatgpt.com/share/67bea404-3b44-8003-b930-9493c7ab41e5\n",
    "\n",
    "import unittest\n",
    "\n",
    "class TestKeystreamFunctions(unittest.TestCase):\n",
    "    def test_encrypt_decrypt(self):\n",
    "        mensaje = \"Hello\"\n",
    "        seed = \"llave\"\n",
    "        keystream = keystreamGenerator(len(mensaje), seed)\n",
    "        cifrado = encrypt(mensaje, keystream)\n",
    "        descifrado = decryption(cifrado, keystream)\n",
    "        self.assertEqual(descifrado, mensaje)\n",
    "\n",
    "    def test_encrypt_decrypt_with_error1(self):\n",
    "        # Cambio de llave\n",
    "        mensaje = \"Hello\"\n",
    "        seed = \"llave\"\n",
    "        keystream = keystreamGenerator(len(mensaje), seed)\n",
    "        cifrado = encrypt(mensaje, keystream)\n",
    "        wrongKeystream = keystreamGenerator(len(mensaje), \"otrallave\")\n",
    "        descifrado = decryption(cifrado, wrongKeystream)\n",
    "        self.assertEqual(descifrado, mensaje)\n",
    "\n",
    "    def test_encrypt_decrypt_with_error2(self):\n",
    "        mensaje = \"Hello\"\n",
    "        seed = \"llave\"\n",
    "        keystream = keystreamGenerator(len(mensaje), seed)\n",
    "        cifrado = encrypt(mensaje, keystream)\n",
    "        wrongKeystream = keystreamGenerator(len(mensaje) - 4, seed)\n",
    "        descifrado = decryption(cifrado, wrongKeystream)\n",
    "        self.assertEqual(descifrado, mensaje)\n",
    "    \n",
    "if __name__ == \"__main__\":\n",
    "    unittest.main(argv=['first-arg-is-ignored'], exit=False)"
   ]
  }
 ],
 "metadata": {
  "kernelspec": {
   "display_name": "Python 3",
   "language": "python",
   "name": "python3"
  },
  "language_info": {
   "codemirror_mode": {
    "name": "ipython",
    "version": 3
   },
   "file_extension": ".py",
   "mimetype": "text/x-python",
   "name": "python",
   "nbconvert_exporter": "python",
   "pygments_lexer": "ipython3",
   "version": "3.10.2"
  }
 },
 "nbformat": 4,
 "nbformat_minor": 2
}
