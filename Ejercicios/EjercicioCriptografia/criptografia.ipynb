{
 "cells": [
  {
   "cell_type": "markdown",
   "metadata": {},
   "source": [
    "# Ejercicio de Criptografía"
   ]
  },
  {
   "cell_type": "markdown",
   "metadata": {},
   "source": [
    "## ASCII a Binario\n"
   ]
  },
  {
   "cell_type": "code",
   "execution_count": 58,
   "metadata": {},
   "outputs": [
    {
     "name": "stdout",
     "output_type": "stream",
     "text": [
      "01101000 01101111 01101100 01100001\n"
     ]
    }
   ],
   "source": [
    "def ascciToBinary(mensaje):\n",
    "    return ' '.join(format(ord(char), '08b') for char in mensaje)\n",
    "\n",
    "print(ascciToBinary(\"hola\"))"
   ]
  },
  {
   "cell_type": "markdown",
   "metadata": {},
   "source": [
    "## Base64 a Binario\n"
   ]
  },
  {
   "cell_type": "code",
   "execution_count": 77,
   "metadata": {},
   "outputs": [
    {
     "name": "stdout",
     "output_type": "stream",
     "text": [
      "01101000 01101111 01101100 01100001\n"
     ]
    }
   ],
   "source": [
    "def base64ToBinary(base64):\n",
    "    index = \"ABCDEFGHIJKLMNOPQRSTUVWXYZabcdefghijklmnopqrstuvwxyz0123456789+/\"\n",
    "    temp = ''.join(format(index.index(char), '06b') for char in base64 if char != \"=\")\n",
    "    temp = temp[0:len(temp) - base64.count(\"=\") * 2]\n",
    "    return ' '.join(temp[i:i + 8] for i in range(0, len(temp), 8))\n",
    "\n",
    "print(base64ToBinary(\"aG9sYQ==\"))"
   ]
  },
  {
   "cell_type": "markdown",
   "metadata": {},
   "source": [
    "## Binario a Base64"
   ]
  },
  {
   "cell_type": "code",
   "execution_count": 8,
   "metadata": {},
   "outputs": [
    {
     "name": "stdout",
     "output_type": "stream",
     "text": [
      "aG9sYQ==\n"
     ]
    }
   ],
   "source": [
    "def binaryToBase64(binary):\n",
    "    index = \"ABCDEFGHIJKLMNOPQRSTUVWXYZabcdefghijklmnopqrstuvwxyz0123456789+/\"\n",
    "    binary = binary.replace(\" \", \"\")\n",
    "    temp = [group for group in [binary[i:i + 6] for i in range(0, len(binary), 6)]]\n",
    "    padding = 0\n",
    "    for i in range(len(temp)):\n",
    "        if len(temp[i]) < 6:\n",
    "            padding = 6 - len(temp[i])\n",
    "            temp[i] = temp[i].ljust(6, \"0\")\n",
    "    return ''.join(index[int(group, 2)] for group in temp if group != \"=\") + \"=\" * (padding // 2)\n",
    "\n",
    "print(binaryToBase64(\"01101000 01101111 01101100 01100001\"))"
   ]
  },
  {
   "cell_type": "markdown",
   "metadata": {},
   "source": [
    "## Binario a ASCII"
   ]
  },
  {
   "cell_type": "code",
   "execution_count": 9,
   "metadata": {},
   "outputs": [
    {
     "name": "stdout",
     "output_type": "stream",
     "text": [
      "hola\n"
     ]
    }
   ],
   "source": [
    "def binaryToAscii(binary):\n",
    "    binary = binary.replace(\" \", \"\")\n",
    "    return ''.join(chr(int(binary[i:i + 8], 2)) for i in range(0, len(binary), 8))\n",
    "\n",
    "print(binaryToAscii(\"01101000 01101111 01101100 01100001\"))"
   ]
  },
  {
   "cell_type": "markdown",
   "metadata": {},
   "source": [
    "## Base64 a ASCI"
   ]
  },
  {
   "cell_type": "code",
   "execution_count": 10,
   "metadata": {},
   "outputs": [
    {
     "name": "stdout",
     "output_type": "stream",
     "text": [
      "holaa\u0000\n"
     ]
    }
   ],
   "source": [
    "def base64ToAscii(base64):\n",
    "    index = \"ABCDEFGHIJKLMNOPQRSTUVWXYZabcdefghijklmnopqrstuvwxyz0123456789+/\"\n",
    "    padding = base64.count(\"=\") // 2\n",
    "    base64 = base64.replace(\"=\", \"\")\n",
    "    temp = ''.join(format(index.index(char), '06b') for char in base64)\n",
    "    temp = temp[0:len(temp) - padding]\n",
    "    return ''.join(chr(int(temp[i:i + 8], 2)) for i in range(0, len(temp), 8))\n",
    "\n",
    "print(base64ToAscii(\"aG9sYWE=\"))"
   ]
  },
  {
   "cell_type": "markdown",
   "metadata": {},
   "source": [
    "## XOR"
   ]
  },
  {
   "cell_type": "code",
   "execution_count": 2,
   "metadata": {},
   "outputs": [
    {
     "name": "stdout",
     "output_type": "stream",
     "text": [
      "00010011\n"
     ]
    }
   ],
   "source": [
    "def xor(bin1, bin2):\n",
    "    res = \"\"\n",
    "    for i in range(len(bin1)):\n",
    "        if bin1[i] == bin2[i]:\n",
    "            res += \"0\"\n",
    "        else:\n",
    "            res += \"1\"\n",
    "    return res\n",
    "\n",
    "print(xor(\"01111000\", \"01101011\"))"
   ]
  },
  {
   "cell_type": "markdown",
   "metadata": {},
   "source": [
    "## Llaves"
   ]
  },
  {
   "cell_type": "markdown",
   "metadata": {},
   "source": [
    "### Tamaño fijo"
   ]
  },
  {
   "cell_type": "code",
   "execution_count": 3,
   "metadata": {},
   "outputs": [
    {
     "name": "stdout",
     "output_type": "stream",
     "text": [
      "holaaa\n"
     ]
    }
   ],
   "source": [
    "def askKey():\n",
    "    return input(\"Ingrese la llave (k): \")\n",
    "\n",
    "print(askKey())"
   ]
  },
  {
   "cell_type": "markdown",
   "metadata": {},
   "source": [
    "### Tamaño dinámico"
   ]
  },
  {
   "cell_type": "code",
   "execution_count": 3,
   "metadata": {},
   "outputs": [
    {
     "name": "stdout",
     "output_type": "stream",
     "text": [
      "ÇÕ\"Þê\n"
     ]
    }
   ],
   "source": [
    "import random\n",
    "def generateKey(length):\n",
    "    return ''.join(chr(random.randint(33, 255)) for _ in range(length))\n",
    "\n",
    "length = int(input(\"Ingrese el tamaño de la llave (n): \"))\n",
    "print(generateKey(length))"
   ]
  }
 ],
 "metadata": {
  "kernelspec": {
   "display_name": "Python 3",
   "language": "python",
   "name": "python3"
  },
  "language_info": {
   "codemirror_mode": {
    "name": "ipython",
    "version": 3
   },
   "file_extension": ".py",
   "mimetype": "text/x-python",
   "name": "python",
   "nbconvert_exporter": "python",
   "pygments_lexer": "ipython3",
   "version": "3.10.2"
  }
 },
 "nbformat": 4,
 "nbformat_minor": 2
}
