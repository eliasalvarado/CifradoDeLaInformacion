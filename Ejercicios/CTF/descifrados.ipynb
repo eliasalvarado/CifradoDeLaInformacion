{
 "cells": [
  {
   "cell_type": "code",
   "execution_count": 1,
   "metadata": {},
   "outputs": [],
   "source": [
    "alphabet = \"abcdefghijklmnopqrstuvwxyz\"\n",
    "\n",
    "def cleanText(text):\n",
    "    text = text.replace(\"á\", \"a\").replace(\"é\", \"e\").replace(\"í\", \"i\").replace(\"ó\", \"o\").replace(\"ú\", \"u\").lower()\n",
    "\n",
    "    return ''.join(char for char in text if char.isalpha())\n",
    "\n",
    "def frequencyAnalysis(cipher):\n",
    "    frequency = {}\n",
    "    for char in alphabet:\n",
    "        frequency[char] = cipher.count(char) / len(cipher) * 100\n",
    "    return frequency\n",
    "\n",
    "theoreticalFreq = {}\n",
    "with open('sp_frequencies.txt', 'r', encoding='utf-8') as file:\n",
    "    next(file)\n",
    "    for linea in file:\n",
    "        partes = linea.strip().split('\\t')\n",
    "        if len(partes) == 2:\n",
    "            letra, frecuencia = partes\n",
    "            theoreticalFreq[letra.lower()] = float(frecuencia.strip('%'))\n",
    "\n",
    "def metric(text):\n",
    "    realFreq = frequencyAnalysis(text)\n",
    "    error = sum(abs(realFreq.get(letra, 0) - theoreticalFreq.get(letra, 0)) for letra in theoreticalFreq)\n",
    "    return error"
   ]
  },
  {
   "cell_type": "code",
   "execution_count": 2,
   "metadata": {},
   "outputs": [
    {
     "name": "stdout",
     "output_type": "stream",
     "text": [
      "Key (3) (Error=80.30): flagcesarcifrado\n",
      "Key (20) (Error=101.62): oujplnbjalroajmx\n",
      "Key (17) (Error=102.00): rxmsoqemdourdmpa\n",
      "Key (16) (Error=107.62): syntprfnepvsenqb\n",
      "Key (18) (Error=116.58): qwlrnpdlcntqcloz\n"
     ]
    }
   ],
   "source": [
    "def caesarDecrypt(cipher, key):\n",
    "    return ''.join(alphabet[(alphabet.index(char) - key) % len(alphabet)] for char in cipher)\n",
    "\n",
    "def brutteForceCeasar(cipher):\n",
    "    cipher = cleanText(cipher)\n",
    "    results = []\n",
    "    for i in range(len(alphabet)):\n",
    "        message = caesarDecrypt(cipher, i)\n",
    "        results.append((i, metric(message), message))\n",
    "    results.sort(key=lambda x: x[1])\n",
    "    for key, error, message in results[:5]:\n",
    "        print(f\"Key ({key}) (Error={error:.2f}): {message}\")\n",
    "        \"\"\" print('Key (' + str(i) + '): ' + caesarDecrypt(cipher, i))\n",
    "    if (input(\"¿Es este el mensaje original? (s/n): \") == \"s\"):\n",
    "        return\n",
    "    else:\n",
    "        for i in range(0, alphabet.index(start)):\n",
    "            print(caesarDecrypt(cipher, i)) \"\"\"\n",
    "        \n",
    "\n",
    "# jjqaopñlhwxañejplzecepwhajyljopwjpaarlhqyeljhwwcehezwzyñemplcñwbeywyñemplwcehezwzmwñwwxñarewñaoqjiaywjeoilzazabajowyñqyewhloxñejzwhwywmwyezwzzailzebeywññwmezwiajpaahqolzawhclñepilouyhwraoyñemplcñwbeyloqjwwyyeljjayaowñewmwñwwjpeyemwñjlowhwobqpqñwowiajwvwozayexañoacqñezwz\n",
    "brutteForceCeasar(input(\"Ingrese el mensaje cifrado: \"))"
   ]
  },
  {
   "cell_type": "code",
   "execution_count": 3,
   "metadata": {},
   "outputs": [
    {
     "name": "stdout",
     "output_type": "stream",
     "text": [
      "Key (7) (Error=43.18): lohanconseguidohanencontradounaflagparaelsiguientedesafioflagcryptoanalysis\n",
      "Key (20) (Error=88.41): ybunapbafrthvqbunarapbagenqbhansyntcnenryfvthvragrqrfnsvbsyntpelcgbnanylfvf\n",
      "Key (3) (Error=95.41): pslergsrwikymhslerirgsrxvehsyrejpekteveipwmkymirxihiwejmsjpekgvctxserepcwmw\n",
      "Key (21) (Error=98.32): xatmzoazeqsgupatmzqzoazfdmpagzmrxmsbmdmqxeusguqzfqpqemruarxmsodkbfamzmxkeue\n",
      "Key (19) (Error=102.37): zcvobqcbgsuiwrcvobsbqcbhforcibotzoudofoszgwuiwsbhsrsgotwctzouqfmdhcobozmgwg\n"
     ]
    }
   ],
   "source": [
    "brutteForceCeasar(input(\"Ingrese el mensaje cifrado: \"))"
   ]
  }
 ],
 "metadata": {
  "kernelspec": {
   "display_name": "Python 3",
   "language": "python",
   "name": "python3"
  },
  "language_info": {
   "codemirror_mode": {
    "name": "ipython",
    "version": 3
   },
   "file_extension": ".py",
   "mimetype": "text/x-python",
   "name": "python",
   "nbconvert_exporter": "python",
   "pygments_lexer": "ipython3",
   "version": "3.10.2"
  }
 },
 "nbformat": 4,
 "nbformat_minor": 2
}
