{
 "cells": [
  {
   "cell_type": "markdown",
   "metadata": {},
   "source": [
    "# Lab 1A – Encriptado y Decriptado de Texto"
   ]
  },
  {
   "cell_type": "markdown",
   "metadata": {},
   "source": [
    "## Librerías"
   ]
  },
  {
   "cell_type": "code",
   "execution_count": 3,
   "metadata": {},
   "outputs": [],
   "source": [
    "from sympy import mod_inverse\n",
    "import matplotlib.pyplot as plt"
   ]
  },
  {
   "cell_type": "markdown",
   "metadata": {},
   "source": [
    "## Encriptación y Decriptación de Texto"
   ]
  },
  {
   "cell_type": "code",
   "execution_count": 1,
   "metadata": {},
   "outputs": [],
   "source": [
    "def cleanText(text):\n",
    "    text = text.replace(\"á\", \"a\").replace(\"é\", \"e\").replace(\"í\", \"i\").replace(\"ó\", \"o\").replace(\"ú\", \"u\")\n",
    "\n",
    "    return ''.join(char for char in text if char.isalpha())\n",
    "\n",
    "alphabet = \"abcdefghijklmnñopqrstuvwxyz\"\n",
    "m = len(alphabet)\n",
    "mensaje = \"cifrando la palabra cifrado\"\n"
   ]
  },
  {
   "cell_type": "markdown",
   "metadata": {},
   "source": [
    "### Cifrado Caesar"
   ]
  },
  {
   "cell_type": "code",
   "execution_count": 11,
   "metadata": {},
   "outputs": [],
   "source": [
    "def caesarEncrypt(message, key):\n",
    "    message = cleanText(message)\n",
    "    return ''.join(alphabet[(alphabet.index(char) + key) % m] for char in message)\n",
    "\n",
    "def caesarDecrypt(cipher, key):\n",
    "    return ''.join(alphabet[(alphabet.index(char) - key) % m] for char in cipher)"
   ]
  },
  {
   "cell_type": "code",
   "execution_count": 7,
   "metadata": {},
   "outputs": [
    {
     "name": "stdout",
     "output_type": "stream",
     "text": [
      "Cifrado Caesar:  hnkwfritpfufpfgwfhnkwfit\n"
     ]
    }
   ],
   "source": [
    "k = int(input(\"Ingrese la llave (k): \"))\n",
    "print(\"Cifrado Caesar: \", caesarEncrypt(mensaje, k))"
   ]
  },
  {
   "cell_type": "code",
   "execution_count": 8,
   "metadata": {},
   "outputs": [
    {
     "name": "stdout",
     "output_type": "stream",
     "text": [
      "Decifrado Caesar:  cifrandolapalabracifrado\n"
     ]
    }
   ],
   "source": [
    "cipher = input(\"Ingrese el mensaje cifrado: \")\n",
    "k = int(input(\"Ingrese la llave (k) con la que se cifró el mensaje: \"))\n",
    "print(\"Decifrado Caesar: \", caesarDecrypt(cipher, k))"
   ]
  },
  {
   "cell_type": "markdown",
   "metadata": {},
   "source": [
    "### Cifrado afín"
   ]
  },
  {
   "cell_type": "code",
   "execution_count": 22,
   "metadata": {},
   "outputs": [],
   "source": [
    "def gcd(a, b):\n",
    "    while b:\n",
    "        a, b = b, a % b\n",
    "    return a\n",
    "\n",
    "def analyseAB(a, b):\n",
    "    if a < 0 or a > m or b < 0 or b > m:\n",
    "        return False\n",
    "    \n",
    "    if gcd(a, m) != 1:\n",
    "        return False\n",
    "    return True\n",
    "\n",
    "def affineEncrypt(message, a, b):\n",
    "    message = cleanText(message)\n",
    "    return ''.join(alphabet[(a * alphabet.index(char) + b) % m] for char in message)\n",
    "\n",
    "def affineDecrypt(cipher, a, b):\n",
    "    aInverse = mod_inverse(a, m)\n",
    "    return ''.join(alphabet[(aInverse * (alphabet.index(char) - b)) % m] for char in cipher)"
   ]
  },
  {
   "cell_type": "code",
   "execution_count": 15,
   "metadata": {},
   "outputs": [
    {
     "name": "stdout",
     "output_type": "stream",
     "text": [
      "Cifrado afín:  nkywfdqlvfofvfjwfnkywfql\n"
     ]
    }
   ],
   "source": [
    "a = int(input(\"Ingrese la llave (a): \"))\n",
    "b = int(input(\"Ingrese la llave (b): \"))\n",
    "if not analyseAB(a, b):\n",
    "    print(\"\\033[31mLas llaves no son válidas\\033[0m\")\n",
    "else:\n",
    "    print(\"Cifrado afín: \", affineEncrypt(mensaje, a, b))"
   ]
  },
  {
   "cell_type": "code",
   "execution_count": 23,
   "metadata": {},
   "outputs": [
    {
     "name": "stdout",
     "output_type": "stream",
     "text": [
      "Decifrado afín:  cifrandolapalabracifrado\n"
     ]
    }
   ],
   "source": [
    "cipher = input(\"Ingrese el mensaje cifrado: \")\n",
    "a = int(input(\"Ingrese la llave (a) con la que se cifró el mensaje: \"))\n",
    "b = int(input(\"Ingrese la llave (b) con la que se cifró el mensaje: \"))\n",
    "if not analyseAB(a, b):\n",
    "    print(\"\\033[31mLas llaves no son válidas\\033[0m\")\n",
    "else:\n",
    "    print(\"Decifrado afín: \", affineDecrypt(cipher, a, b))"
   ]
  },
  {
   "cell_type": "markdown",
   "metadata": {},
   "source": [
    "### Cifrado Vigenere"
   ]
  },
  {
   "cell_type": "code",
   "execution_count": 2,
   "metadata": {},
   "outputs": [],
   "source": [
    "def vigenereEncrypt(message, key):\n",
    "    message = cleanText(message)\n",
    "    return ''.join(alphabet[(alphabet.index(char) + alphabet.index(key[i % len(key)])) % m] for i, char in enumerate(message))\n",
    "\n",
    "def vigenereDecrypt(cipher, key):\n",
    "    return ''.join(alphabet[(alphabet.index(char) - alphabet.index(key[i % len(key)])) % m] for i, char in enumerate(cipher))"
   ]
  },
  {
   "cell_type": "code",
   "execution_count": 33,
   "metadata": {},
   "outputs": [
    {
     "name": "stdout",
     "output_type": "stream",
     "text": [
      "Cifrado Vigenere:  jwprhbñoroaaromrhqsfyoño\n"
     ]
    }
   ],
   "source": [
    "key = input(\"Ingrese la llave (key): \")\n",
    "print(\"Cifrado Vigenere: \", vigenereEncrypt(mensaje, key))"
   ]
  },
  {
   "cell_type": "code",
   "execution_count": 34,
   "metadata": {},
   "outputs": [
    {
     "name": "stdout",
     "output_type": "stream",
     "text": [
      "Decifrado Vigenere:  cifrandolapalabracifrado\n"
     ]
    }
   ],
   "source": [
    "cipher = input(\"Ingrese el mensaje cifrado: \")\n",
    "key = input(\"Ingrese la llave (key) con la que se cifró el mensaje: \")\n",
    "print(\"Decifrado Vigenere: \", vigenereDecrypt(cipher, key))"
   ]
  },
  {
   "cell_type": "markdown",
   "metadata": {},
   "source": [
    "# Análisis de Frecuencia\n"
   ]
  },
  {
   "cell_type": "code",
   "execution_count": 7,
   "metadata": {},
   "outputs": [
    {
     "name": "stdout",
     "output_type": "stream",
     "text": [
      "{'a': 8.333333333333332, 'b': 4.166666666666666, 'c': 0.0, 'd': 0.0, 'e': 0.0, 'f': 4.166666666666666, 'g': 0.0, 'h': 8.333333333333332, 'i': 0.0, 'j': 4.166666666666666, 'k': 0.0, 'l': 0.0, 'm': 4.166666666666666, 'n': 0.0, 'ñ': 8.333333333333332, 'o': 20.833333333333336, 'p': 4.166666666666666, 'q': 4.166666666666666, 'r': 16.666666666666664, 's': 4.166666666666666, 't': 0.0, 'u': 0.0, 'v': 0.0, 'w': 4.166666666666666, 'x': 0.0, 'y': 4.166666666666666, 'z': 0.0}\n"
     ]
    }
   ],
   "source": [
    "def frequencyAnalysis(cipher):\n",
    "    frequency = {}\n",
    "    for char in alphabet:\n",
    "        frequency[char] = cipher.count(char) / len(cipher) * 100\n",
    "    return frequency\n",
    "\n",
    "frequency = frequencyAnalysis(input(\"Ingrese el mensaje cifrado: \"))\n",
    "print(frequency)"
   ]
  },
  {
   "cell_type": "markdown",
   "metadata": {},
   "source": [
    "# Distribución de Frecuencias\n"
   ]
  },
  {
   "cell_type": "code",
   "execution_count": 8,
   "metadata": {},
   "outputs": [
    {
     "data": {
      "image/png": "[encoded data removed]",
      "text/plain": [
       "<Figure size 640x480 with 1 Axes>"
      ]
     },
     "metadata": {},
     "output_type": "display_data"
    }
   ],
   "source": [
    "def frequencyDistribution(frequency):\n",
    "    plt.bar(frequency.keys(), frequency.values())\n",
    "    plt.title(\"Distribución de Frecuencias\")\n",
    "    plt.xlabel(\"Letra\")\n",
    "    plt.ylabel(\"Frecuencia\")\n",
    "    plt.show()\n",
    "\n",
    "\n",
    "frequencyDistribution(frequency)"
   ]
  }
 ],
 "metadata": {
  "kernelspec": {
   "display_name": "Python 3",
   "language": "python",
   "name": "python3"
  },
  "language_info": {
   "codemirror_mode": {
    "name": "ipython",
    "version": 3
   },
   "file_extension": ".py",
   "mimetype": "text/x-python",
   "name": "python",
   "nbconvert_exporter": "python",
   "pygments_lexer": "ipython3",
   "version": "3.10.2"
  }
 },
 "nbformat": 4,
 "nbformat_minor": 2
}
