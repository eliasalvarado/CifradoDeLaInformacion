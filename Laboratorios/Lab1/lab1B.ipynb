{
 "cells": [
  {
   "cell_type": "markdown",
   "metadata": {},
   "source": [
    "# Lab 1B – Encriptado y Decriptado de Texto"
   ]
  },
  {
   "cell_type": "code",
   "execution_count": 25,
   "metadata": {},
   "outputs": [],
   "source": [
    "alphabet = \"abcdefghijklmnñopqrstuvwxyz\"\n",
    "\n",
    "def cleanText(text):\n",
    "    text = text.replace(\"á\", \"a\").replace(\"é\", \"e\").replace(\"í\", \"i\").replace(\"ó\", \"o\").replace(\"ú\", \"u\").lower()\n",
    "\n",
    "    return ''.join(char for char in text if char.isalpha())\n",
    "\n",
    "def frequencyAnalysis(cipher):\n",
    "    frequency = {}\n",
    "    for char in alphabet:\n",
    "        frequency[char] = cipher.count(char) / len(cipher) * 100\n",
    "    return frequency\n",
    "\n",
    "theoreticalFreq = {}\n",
    "with open('sp_frequencies.txt', 'r', encoding='utf-8') as file:\n",
    "    next(file)\n",
    "    for linea in file:\n",
    "        partes = linea.strip().split('\\t')\n",
    "        if len(partes) == 2:\n",
    "            letra, frecuencia = partes\n",
    "            theoreticalFreq[letra.lower()] = float(frecuencia.strip('%'))\n",
    "\n",
    "def metric(text):\n",
    "    realFreq = frequencyAnalysis(text)\n",
    "    error = sum(abs(realFreq.get(letra, 0) - theoreticalFreq.get(letra, 0)) for letra in theoreticalFreq)\n",
    "    return error"
   ]
  },
  {
   "cell_type": "markdown",
   "metadata": {},
   "source": [
    "# Fuerza bruta Ceasar"
   ]
  },
  {
   "cell_type": "code",
   "execution_count": 47,
   "metadata": {},
   "outputs": [
    {
     "name": "stdout",
     "output_type": "stream",
     "text": [
      "Key (23) (Error=33.16): nnuestrolaberintodigitalenconstanteevolucionlaagilidadcriptograficacriptoagilidadparaabreviaresunmecanismodedefensacrucialosbrindalacapacidaddemodificarrapidamenteelusodealgoritmosyclavescriptograficosunaaccionnecesariaparaanticiparnosalasfuturasamenazasdeciberseguridad\n",
      "Key (12) (Error=93.69): xxfodeczvlmocsxezñsqselvoxnzxdelxeoogzvfnszxvllqsvsñlñncsaezqclpsnlncsaezlqsvsñlñalcllmcogslcodfxwonlxsdwzñoñopoxdlncfnslvzdmcsxñlvlnlalnsñlññowzñspsnlcclasñlwoxeoovfdzñolvqzcsewzdjnvlgodncsaezqclpsnzdfxllnnszxxonodlcslalcllxesnsalcxzdlvldpfefcldlwoxlkldñonsmocdoqfcsñlñ\n",
      "Key (7) (Error=98.03): ccktijheapqthxcjesxvxjpatcrecijpcjttleakrxecappvxaxspsrhxfjevhpuxrprhxfjepvxaxspsfphppqhtlxphtikcbtrpcxibeststutciprhkrxpaeiqhxcspaprpfprxspsstbesxuxrphhpfxspbtcjttakiestpavehxjbeiñrapltirhxfjevhpuxreikcpprrxecctrtiphxpfphppcjxrxfphceipapiukjkhpipbtcpopistrxqthitvkhxsps\n",
      "Key (8) (Error=98.49): bbjshigdzopsgwbidrwuwiozsbqdbhiobisskdzjqwdbzoouwzwrorqgweidugotwqoqgweidouwzwroreogoopgskwogshjbasqobwhadrsrstsbhoqgjqwozdhpgwbrozoqoeoqwrorrsadrwtwqoggoewroasbisszjhdrsozudgwiadhnqzokshqgweidugotwqdhjbooqqwdbbsqshogwoeogoobiwqweogbdhozohtjijgohoasboñohrsqwpsghsujgwror\n",
      "Key (4) (Error=102.64): ffnwlmkhdstwkafmhvayamsdwfuhflmsfmwwñhdnuahfdssyadavsvukaimhyksxausukaimhsyadavsvisksstkwñaskwlnfewusfalehvwvwxwflsuknuasdhltkafvsdsusisuavsvvwehvaxauskksiavsewfmwwdnlhvwsdyhkamehlqudsñwlukaimhyksxauhlnfssuuahffwuwlskasiskssfmauaiskfhlsdslxnmnkslsewfsrslvwuatwklwynkavsv\n"
     ]
    }
   ],
   "source": [
    "def caesarDecrypt(cipher, key):\n",
    "    return ''.join(alphabet[(alphabet.index(char) - key) % len(alphabet)] for char in cipher)\n",
    "\n",
    "def brutteForceCeasar(cipher):\n",
    "    cipher = cleanText(cipher)\n",
    "    results = []\n",
    "    for i in range(len(alphabet)):\n",
    "        message = caesarDecrypt(cipher, i)\n",
    "        results.append((i, metric(message), message))\n",
    "    results.sort(key=lambda x: x[1])\n",
    "    for key, error, message in results[:5]:\n",
    "        print(f\"Key ({key}) (Error={error:.2f}): {message}\")\n",
    "        \"\"\" print('Key (' + str(i) + '): ' + caesarDecrypt(cipher, i))\n",
    "    if (input(\"¿Es este el mensaje original? (s/n): \") == \"s\"):\n",
    "        return\n",
    "    else:\n",
    "        for i in range(0, alphabet.index(start)):\n",
    "            print(caesarDecrypt(cipher, i)) \"\"\"\n",
    "        \n",
    "\n",
    "# jjqaopñlhwxañejplzecepwhajyljopwjpaarlhqyeljhwwcehezwzyñemplcñwbeywyñemplwcehezwzmwñwwxñarewñaoqjiaywjeoilzazabajowyñqyewhloxñejzwhwywmwyezwzzailzebeywññwmezwiajpaahqolzawhclñepilouyhwraoyñemplcñwbeyloqjwwyyeljjayaowñewmwñwwjpeyemwñjlowhwobqpqñwowiajwvwozayexañoacqñezwz\n",
    "brutteForceCeasar(input(\"Ingrese el mensaje cifrado: \"))"
   ]
  },
  {
   "cell_type": "markdown",
   "metadata": {},
   "source": [
    "# Fuerza bruta Afínes"
   ]
  },
  {
   "cell_type": "code",
   "execution_count": 48,
   "metadata": {},
   "outputs": [
    {
     "name": "stdout",
     "output_type": "stream",
     "text": [
      "Key (5, 15) (Error=19.08): nejemplodelanecesidaddecriptoagilidadsepuedeextraerdelosataqueseartbleedugdelerrorrevelounadebilidadcrucialquepermitioalosatacantesleerlamemoriademilesdesistemasyrobarinformacionvaliosaasempresasquelograronrecuperarserapidamentefueronlasquedemostraroncriptoagilidadreemplazandorapidamentesusclavescriptograficasyalgoritmoscomprometidosporotrosnuevosysegurossteincidentesirvecomounclaroejemplodelaimportanciadelacriptoagilidadennuestrabatallacontinuacontralasamenazasdinamicasdeciberseguridad\n",
      "Key (5, 16) (Error=96.88): ctytbfaestapctrtixspsstrhxfjepvxaxspsitfktsttnjhpthstaeipjpgktitphjqattskvstathhehhtltaekcpstqxaxspsrhkrxpagktfthbxjxepaeipjprpcjtiatthapbtbehxpstbxatistixijtbpiñheqphxcuehbprxeclpaxeippitbfhtipigktaevhphechtrkfthphithpfxspbtcjtukthecapigktstbeijhphecrhxfjepvxaxspshttbfapopcsehpfxspbtcjtikirapltirhxfjevhpuxrpiñpavehxjbeirebfhebtjxseifehejheicktleiñitvkheiijtxcrxstcjtixhltrebekcraphetytbfaestapxbfehjpcrxpstaprhxfjepvxaxspstccktijhpqpjpaaprecjxckprecjhpapipbtcpopisxcpbxrpistrxqthitvkhxsps\n",
      "Key (5, 14) (Error=98.13): xotowavzñovlxonodsñlññoncsaezlqsvsñlñdoafoñooieclocñovzdlelbfodolcemvooñfqñovocczccogovzfxlñomsvsñlñncfnslvbfoaocwseszlvzdlelnlxeodvoocvlwowzcslñowsvodñodsdeowldjczmlcsxpzcwlnszxglvszdlldowacodldbfovzqclczxconfaoclcdoclasñlwoxeopfoczxvldbfoñowzdeclczxncsaezlqsvsñlñcoowavlklxñzclasñlwoxeodfdnvlgodncsaezqclpsnldjlvqzcsewzdnzwaczwoesñzdazczeczdxfogzdjdoqfczddeosxnsñoxeodscgonzwzfxnvlczotowavzñovlswazcelxnslñovlncsaezlqsvsñlñoxxfodeclmlelvvlnzxesxflnzxeclvldlwoxlkldñsxlwsnldñonsmocdoqfcsñlñ\n",
      "Key (5, 8) (Error=98.62): jafaimhlzahwjayaoezwzzayñemplwcehezwzoamqazaatpñwañzahlowpwnqaoawñpxhaazqczahaññlññarahlqjwzaxehezwzyñqyewhnqamañiepelwhlowpwywjpaohaañhwiailñewzaiehaozaoeopaiwouñlxwñejblñiwyeljrwhelowwoaimñaowonqahlcñwñljñayqmañwñoañwmezwiajpabqañljhwonqazailopñwñljyñemplwcehezwzñaaimhwvwjzlñwmezwiajpaoqoyhwraoyñemplcñwbeywouwhclñepiloylimñliapezlomlñlpñlojqarlouoacqñloopaejyezajpaoeñraylilqjyhwñlafaimhlzahweimlñpwjyewzahwyñemplwcehezwzajjqaopñwxwpwhhwyljpejqwyljpñwhwowiajwvwozejwieywozayexañoacqñezwz\n",
      "Key (5, 1) (Error=100.79): fwbweidhvwdsfwuwlavsvvwukaimhsyadavsvlwinwvwwpmkswkvwdhlsmsjnwlwskmtdwwvnyvwdwkkhkkwñwdhnfsvwtadavsvuknuasdjnwiwkeamahsdhlsmsusfmwldwwkdsewehkasvweadwlvwlalmweslqkhtskafxhkesuahfñsdahlsslweikwlsljnwdhykskhfkwuniwksklwksiavsewfmwxnwkhfdsljnwvwehlmkskhfukaimhsyadavsvkwweidsrsfvhksiavsewfmwlnludsñwlukaimhyksxauslqsdyhkamehluheikhewmavhlihkhmkhlfnwñhlqlwynkhllmwafuavwfmwlakñwuhehnfudskhwbweidhvwdsaeihkmsfuasvwdsukaimhsyadavsvwffnwlmkstsmsddsuhfmafnsuhfmksdslsewfsrslvafseauslvwuatwklwynkavsv\n"
     ]
    }
   ],
   "source": [
    "from sympy import mod_inverse\n",
    "\n",
    "def affineDecrypt(cipher, a, b):\n",
    "    aInverse = mod_inverse(a, len(alphabet))\n",
    "    return ''.join(alphabet[(aInverse * (alphabet.index(char) - b)) % len(alphabet)] for char in cipher)\n",
    "\n",
    "def brutteForceAffine(cipher):\n",
    "    cipher = cleanText(cipher)\n",
    "    frequency = frequencyAnalysis(cipher)\n",
    "    frequency = dict(sorted(frequency.items(), key=lambda item: item[1], reverse=True))\n",
    "    frequency = list(frequency.keys())\n",
    "    results = []\n",
    "    X_f = alphabet.index('e')\n",
    "    C_f = alphabet.index(frequency[0])\n",
    "    X_s = alphabet.index(\"a\")\n",
    "    C_s = alphabet.index(frequency[1])\n",
    "\n",
    "    for a in [1,2,4,5,7,8,10,11,13,14,16]:\n",
    "        diff_X = (X_f - X_s) % len(alphabet)\n",
    "        diff_C = (C_f - C_s) % len(alphabet)\n",
    "        \n",
    "        if diff_X == 0:\n",
    "            continue\n",
    "\n",
    "        if (diff_C * mod_inverse(diff_X, len(alphabet))) % len(alphabet) != a:\n",
    "            continue\n",
    "        \n",
    "        for b in range(1, 17):\n",
    "            message = affineDecrypt(cipher, a, b)\n",
    "            results.append((a, b, metric(message), message))\n",
    "            \"\"\" if \"extraerdelosataques\" in message:\n",
    "                return f'Key({a}, {b}): {message}' \"\"\"\n",
    "    \n",
    "    results.sort(key=lambda x: x[2])\n",
    "    for a, b, error, message in results[:5]:\n",
    "        print(f\"Key ({a}, {b}) (Error={error:.2f}): {message}\")\n",
    "\n",
    "#print(brutteForceAffine(input(\"Ingrese el mensaje cifrado: \")))\n",
    "# zigiuñpjdipoziyicbdoddiyxbñhjorbpbdodciñmidiiahxoixdipjcohosmicioxhtpiidmrdipixxjxxiqipjmzoditbpbdodyxmybopsmiñixubhbjopjcohoyozhicpiixpouiujxbodiubpicdicbchiuocfxjtoxbznjxuoybjzqopbjcoociuñxicocsmipjrxoxjzxiymñixoxcixoñbdouizhinmixjzpocsmidiujchxoxjzyxbñhjorbpbdodxiiuñpokozdjxoñbdouizhicmcypoqicyxbñhjrxonbyocfoprjxbhujcyjuñxjuihbdjcñjxjhxjczmiqjcfcirmxjcchibzybdizhicbxqiyjujmzypoxjigiuñpjdipobuñjxhozybodipoyxbñhjorbpbdodizzmichxotohoppoyjzhbzmoyjzhxopocouizokocdbzoubyocdiybtixcirmxbdod\n",
    "brutteForceAffine(input(\"Ingrese el mensaje cifrado: \"))"
   ]
  },
  {
   "cell_type": "markdown",
   "metadata": {},
   "source": [
    "# Fuerza bruta Vigeneré"
   ]
  },
  {
   "cell_type": "code",
   "execution_count": 41,
   "metadata": {},
   "outputs": [],
   "source": [
    "x = \"pabilo, pábilo, pablar, pablos, pábulo, pacado, pacana, pacata, pacato, pacaya, pacéis, paceño, pacerá, paceré, pachón, pacían, pacías, pacida, pacido, pación, pacora, pacota, pactad, pactan, pactar, pactas, pacten, pactes, pactos, padece, padecí, padree, padres, padrón, paella, pafias, pafios, paflón, pagaba, pagada, pagado, pagáis, pagana, pagano, pagara, pagará, pagare, pagaré, pagase, pagaya, pagaza, página, pagine, paginé, pagino, paginó, pagoda, pagote, paguen, pagues, paguro, paicos, pailón, painel, paipai, paipay, pairar, pairos, países, pajado, pájara, pájaro, pajaza, pajazo, pajead, pajean, pajear, pajeas, pajeen, pajees, pajera, pajero, pajiza, pajizo, pajosa, pajoso, pajote, pajuil, pajuno, pajuzo, palada, palado, palazo, palcos, palead, paleal, palean, palear, paleas, paleen, palees, palera, palero, paleta, paleto, paletó, paliad, palian, paliar, palias, pálida, pálido, palier, palios, paliza, pallar, pallas, pallón, palmad, palman, palmar, palmas, palmea, palmee, palmeé, palmen, palmeo, palmeó, palmos, palomo, palote, palpad, palpan, palpar, palpas, palpen, palpes, palpos, palqui, palude, paludo, pambil, pamela, pamema, pampas, pampón, pánace, panada, panado, pancho, pancos, pandad, pandan, pandar, pandas, pandee, panden, pandeo, panela, panera, panero, pangal, pangue, pánico, panizo, panoja, panoli, panoso, panque, panqué, pansas, panudo, panzas, panzón, pañera, pañero, pañete, pañito, pañosa, pañoso, papaba, papada, papado, papáis, papara, papará, papare, paparé, páparo, papase, papaya, papayo, papear, papéis, papera, papero, papila, papión, papiro, pápiro, papisa, papuda, papudo, pápula, paquee, paqueo, paraba, paraca, parada, parado, paráis, paraje, páramo, parara, parará, parare, pararé, parase, parata, parcas, parcha, parche, parché, parcho, parchó, parcir, parcos, pardal, pardas, pardea, pardee, pardeé, pardeo, pardeó, pardos, paread, parean, parear, pareas, parece, parecí, pareen, parees, paréis, pareja, parejo, pareos, paresa, párese, pargos, parián, parían, parias, parías, parida, parido, párido, paripé, parirá, pariré, parlad, parlan, parlar, parlas, parlen, parles, parlón, parnés, parola, pároli, parpar, parque, parqué, parqui, parrad, parral, parran, parrar, parras, parrel, parren, parrón, parsec, pársec, parser, partan, partas, partee, parten, partes, partía, partid, partil, partió, partir, partís, partos, parvas, parvos, pasaba, pasada, pasado, pasáis, pasaje, pasara, pasará, pasare, pasaré, pasase, pascal, pascua, pasead, pasean, pasear, paseas, paseen, pasees, paséis, páseme, paseos, pasera, pasero, pásese, pasión, pasito, pasiva, pasivo, pasmad, pasman, pasmar, pasmas, pasmen, pasmes, pasmón, pasmos, pasoso, pasota, pasote, paspié, pássim, pastad, pastan, pastar, pastas, pastee, pastel, pasten, pastes, pastón, pastor, pastos, pasudo, pataca, pataco, patada, pataje, patajú, pataos, patata, patead, patean, patear, pateas, pateen, patees, patena, pateos, patera, pátera, patero, pateta, patina, pátina, patine, patiné, patino, patinó, patios, patita, patito, patojo, patona, patosa, patoso, patota, patria, patrio, patrón, patuco, patuda, patudo, paujil, paular, pausad, pausan, pausar, pausas, pausen, pauses, pautad, pautan, pautar, pautas, pauten, pautes, pavada, pavana, pavera, pavero, pavesa, pavías, pávida, pávido, pavona, pavone, pavoné, pavono, pavonó, pavura, payada, payana, payasa, payaso, payesa, pazcón, pazote\"\n",
    "words = []\n",
    "for y in x.split(','):\n",
    "    words.append(cleanText(y))"
   ]
  },
  {
   "cell_type": "code",
   "execution_count": 46,
   "metadata": {},
   "outputs": [
    {
     "name": "stdout",
     "output_type": "stream",
     "text": [
      "Key (payasa) (Error=19.68): aunquselerrdrhearibleedhehasozucionodosieaprehanunanusvaamebazaenslhoriñontehdylacuonticassesaaaenazafuepuereatrakesartddasnusstrasrefensosantehdequeiodoesieperdwdodebsmosaddptarlocriptdagiliradparodefenrernosrisponwbleenzaspribcipalsssoluqionesrecripiografwaposcjanticopqcdezaactuolidadzaevidsnciadslaamebazainainentsdelacdmputaqioncuonticanaestaoquieseecialaentecdntecnwcascoaostorsnowdeqryptlotersnrlqueyoestansnjuegdsndlehunmetddoenezquesegobandotoscitradosnsealmocenanvastaqjelospwrataswnformoticoseuedanrescifgarlosaastarreconubacompjtadorocuantwcaestdsigniticaunoamenañainmibenteldsdatohcifrarossegdnlosehtandagesactjalespsroalmocenaddsparajndescwfradotuturosstarabenriehgoyaqjelascdmputarorascjanticoseveniualmebteromeeranldsmetorosdecwfradooctualssporldtantohndlesjnabompadetismpoyubclarogecordotoriorelauruenciareactuolizarbuestrdsmetorosdecwfradoearaqusseanssgurosearalaqomputocioncjanticoelenfdquepqqabordolanecssidadrecripioagilwdadcobvulnegabiliradescdmosndzqueprssentabunpelwgrocloroyprssenteohoraehelmomsntoderarunsoltocuonticosnnuesiracrietogratia\n",
      "Key (payaso) (Error=20.92): aunqueelerrorheartbleedsehasolucionadosiemprehayunanuevaamenazaenelhorizontehoylacuanticaesesaamenazaquepuedeatravesartodasnuestrasdefensasantesdequetodoesteperdidodebemosadoptarlacriptoagilidadparadefendernosdisponibleenlasprincipalessolucionesdecriptografiaposcuanticapqcdelaactualidadlaevidenciadelaamenazainminentedelacomputacioncuanticayaestaaquiespecialmentecontecnicascomostorenowdecryptlatersndlqueyaestanenjuegosndlesunmetodoenelqueserobandatoscifradosysealmacenanhastaquelospiratasinformaticospuedandescifrarlosmastardeconunacomputadoracuanticaestosignificaunaamenazainminentelosdatoscifradossegonlosestandaresactualesperoalmacenadosparaundescifradofuturoestaranenriesgoyaquelascomputadorascuanticaseventualmenteromperanlosmetodosdecifradoactualesporlotantosndlesunabombadetiempoyunclarorecordatoriodelaurgenciadeactualizarnuestrosmetodosdecifradoparaqueseansegurosparalacomputacioncuanticaelenfoquepqcabordalanecesidaddecriptoagilidadconvulnerabilidadescomosndlquepresentanunpeligroclaroypresenteahoraeselmomentodedarunsaltocuanticoennuestracriptografia\n",
      "Key (payada) (Error=25.40): aunqkselerhdrheahibleeshehasezuciocodositaprehpnunanksvaamtbazaecslhorxñontewdylackonticpssesapaenazpfueputreatrpkesarjddasnksstrairefeniosantthdequtiodoeiieperswdodeqsmosasdptaraocripjdagilxradpahodefecrernoirispocwbleeczasprxbcipaasssolkqioneirecrifiograuwaposrjantiropqcdtzaactkolidaszaevissnciasslaamtbazaicainenjsdelardmputpqionckonticpnaestpoquieieeciaaaenterdnteccwcasceaostohsnowdtqryptaoterscrlqueñoestacsnjuevdsndlthunmejddoentzquestgobansotoscxtradoinsealbocenacvastagjelosfwrataiwnforboticoieuedacresciugarloiaastahreconkbacomfjtadohocuanjwcaesjdsignxticaucoamenpñainmxbenteadsdatehcifrprossevdnlosthtandpgesacjjalesfsroalbocenasdsparpjndesrwfradetuturesstarpbenrithgoyagjelasrdmputprorasrjantiroseveciualmtbterobeeranadsmeterosderwfradeoctuaassporadtantehndleijnabobpadetxsmpoykbclaregecorsotorierelauhuencipreactkolizahbuesthdsmeterosderwfradeearaqksseanisguroiearalpqompujocionrjantiroelenudquepgqaborsolanerssidasrecrifioagiawdadcebvulntgabilxradesrdmosnszquephssentpbunpeawgrocaoroyphssenttohorathelmobsntodtrarunioltockonticesnnueiiracrxetogrptia\n",
      "Key (payana) (Error=27.23): aunqaselerxdrheaxibleejhehasuzuciosodosikaprehgnunanasvaamkbazaesslhorññontendylacaonticgssesagaenazgfuepukreatrgkesarzddasnasstrayrefenyosantkhdequkiodoeyieperjwdodehsmosajdptarqocripzdagilñradpaxodefesrernoyrisposwbleeszasprñbcipaqsssolaqioneyrecriviogralwaposijantiiopqcdkzaactaolidajzaevijsnciajslaamkbazaisainenzsdelaidmputgqioncaonticgnaestgoquieyeeciaqaenteidntecswcascuaostoxsnowdkqryptqoterssrlqueeoestassnjuemdsndlkhunmezddoenkzqueskgobanjotoscñtradoynsealrocenasvastawjelosvwrataywnforroticoyeuedasrescilgarloyaastaxreconabacomvjtadoxocuanzwcaeszdsignñticausoamengñainmñbenteqdsdatuhcifrgrossemdnloskhtandggesaczjalesvsroalrocenajdspargjndesiwfradututurusstargbenrikhgoyawjelasidmputgrorasijantiiosevesiualmkbteroreeranqdsmeturosdeiwfraduoctuaqssporqdtantuhndleyjnaborpadetñsmpoyabclarugecorjotoriurelauxuencigreactaolizaxbuestxdsmeturosdeiwfraduearaqasseanysguroyearalgqompuzocionijantiioelenldquepwqaborjolaneissidajrecrivioagiqwdadcubvulnkgabilñradesidmosnjzquepxssentgbunpeqwgrocqoroypxssentkohorakhelmorsntodkrarunyoltocaonticusnnueyiracrñetogrgtia\n",
      "Key (payesa) (Error=28.03): aunnuseleñrdrhewribleadhehaoozucilnodoseeapredanunajusvaaiebazaanslhoñiñontahdylayuontiyasseswaaenavafuepqereatñakesañtddasjusstrwsrefejsosanpehdeqqeiodoasiepeñdwdodabsmoswddptañlocrimtdagihiradpwrodefanrernlsrisplnwbleanzaspñibcipwlsssohuqionasrecrepiogrwfwapoocjantecopqczezaacpuolidwdzaevedsnciwdslaaiebazaenainejtsdelwcdmpupaqionyuontiyanaespaoquiaseeciwlaentacdnteynwcasyoaostlrsnowzeqrypploteronrlquayoestwnsnjuagdsndhehunmatddoejezqueoegobajdotosyitradlsnseahmocenwnvastwqjeloopwratwswnfoñmoticlseuedwnrescefgarllsaastwrrecojubacoipjtadlrocuajtwcaeotdsigjiticaqnoamejañainiibentaldsdapohcifñarossagdnlooehtanzagesaytjaleopsroahmocenwddspañajndeocwfrazotutuñosstañabenreehgoywqjelaocdmpuparoraocjantecosevaniualiebterlmeerajldsmeporosdacwfrazooctuwlsspoñldtanpohndlasjnablmpadepismpouubclañogecoñdotoreorelaqruenceareacpuolizwrbuesprdsmeporosdacwfrazoearanusseajssgurlsearahaqompqtociojcjantecoelejfdquemqqaboñdolanacssidwdrecrepioagelwdadyobvuljegabihiradeocdmosjdzquemrssenpabunpalwgroyloroymrssenpeohorwehelmlmsntozerarujsoltoyuontiyosnnuasiracñietogñatia\n"
     ]
    }
   ],
   "source": [
    "def vigenereDecrypt(cipher, key):\n",
    "    return ''.join(alphabet[(alphabet.index(char) - alphabet.index(key[i % len(key)])) % len(alphabet)] for i, char in enumerate(cipher))\n",
    "\n",
    "def bruteForceVigenere(cipher):\n",
    "    cipher = cleanText(cipher)\n",
    "    results = []\n",
    "    for word in words:\n",
    "        message = vigenereDecrypt(cipher, word)\n",
    "        results.append((word, metric(message), message))\n",
    "        \"\"\" if \"nuevaamenazaenelhorizonte\" in message:\n",
    "            return f'Key ({word}): {message}' \"\"\"\n",
    "    results.sort(key=lambda x: x[1])\n",
    "    for word, error, message in results[:5]:\n",
    "        print(f\"Key ({word}) (Error={error:.2f}): {message}\")\n",
    "    \n",
    "# print(bruteForceVigenere(input(\"Ingrese el mensaje cifrado: \")))\n",
    "#pulqnstlcrkdhhcakiqlcevhthyshzkcgofosoqiwafrchsnknynnslaymwbpzyefsahnrañenrezdñlycnoctgcssieqasatnyzsfkeñuwrtarrsktsyrmdsaqnnsitpalrtfcnloialtwhseouwiednelitpcrvwsobetsboqavdftyrdorrgpmdpgglarpdñakosedefrtrlolrxsñofwqlcefzpsñrabriñadsisnlnqxolelrtcpiiiegpaxwppnsujpnriuofqadwzpaatnoaibavzpetivsccgavsaaymwbpzyifaxncnmssejaudbpstsqxolcnoctgcsnpeqtsogugeletcgadatnreudctccfwraqchaesrokscoudwqhyñtdojepsfraqseqotsrafscjseydinblwhknkemdsocnwzgucswgebynvojoqcathabolnieyleorelafvpsrajjtlnsiwharalwcfnreojiaolekebafrtsaixgprjolapsrakrtcnnnbpcnmijjabokoruynmwracsmdiienatxcyufopmcnsñpilmabtnreddidythhridrsresqeydclnswhjaldsgtsycmjplcsishoyleorelavdipyrsjcdcsuwurydhtktsrhsityrsbtnpiwhvowajjtlysudbpstsrerysujpnriuoietefikajmwbjepoeetrynddimcthresbeuwurydhortsadsipnrddjalthhcdjeljcazoeppdctasbpnynbrlyrhgtcnrvojopihrtlyukutnaisrtaatnoaixakbkeqtkdimcthresbeuwurydhepryqnsieynlsvupoleprylsqemñumorinnujpnriuotlcnxdgucpjqpbnrvoaaleusiibavrtcpiiieaeidwsabchblujnwgpbglarpdcsudboqnvzgucpksieltsbknñedwvrncdohowpksieltwowopawhtlkoesctndwrprsnloatncnoctgchscnselihaaraejoerstxa\n",
    "bruteForceVigenere(input(\"Ingrese el mensaje cifrado: \"))"
   ]
  }
 ],
 "metadata": {
  "kernelspec": {
   "display_name": "Python 3",
   "language": "python",
   "name": "python3"
  },
  "language_info": {
   "codemirror_mode": {
    "name": "ipython",
    "version": 3
   },
   "file_extension": ".py",
   "mimetype": "text/x-python",
   "name": "python",
   "nbconvert_exporter": "python",
   "pygments_lexer": "ipython3",
   "version": "3.10.2"
  }
 },
 "nbformat": 4,
 "nbformat_minor": 2
}
