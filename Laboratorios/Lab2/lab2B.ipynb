{
 "cells": [
  {
   "cell_type": "markdown",
   "metadata": {},
   "source": [
    "# Lab 2B – Base 64 y XOR"
   ]
  },
  {
   "cell_type": "markdown",
   "metadata": {},
   "source": [
    "## Requisito"
   ]
  },
  {
   "cell_type": "code",
   "execution_count": 90,
   "metadata": {},
   "outputs": [],
   "source": [
    "def decimalToBinary(decimal, bits=8):\n",
    "    binary = ''\n",
    "    while decimal > 0:\n",
    "        binary = str(decimal % 2) + binary\n",
    "        decimal = decimal // 2\n",
    "    \n",
    "    binary = binary.rjust(bits, '0')\n",
    "    return binary\n",
    "\n",
    "def ascciToBinary(ascci):\n",
    "    return ' '.join(decimalToBinary(ord(char)) for char in ascci)\n",
    "\n",
    "def base64ToAscii(base64):\n",
    "    index = \"ABCDEFGHIJKLMNOPQRSTUVWXYZabcdefghijklmnopqrstuvwxyz0123456789+/\"\n",
    "    padding = base64.count(\"=\") // 2\n",
    "    base64 = base64.replace(\"=\", \"\")\n",
    "    temp = ''.join(decimalToBinary(index.index(char), bits=6) for char in base64)\n",
    "    temp = temp[0:len(temp) - padding]\n",
    "    return ''.join(chr(int(temp[i:i + 8], 2)) for i in range(0, len(temp), 8))\n",
    "\n",
    "def cleanText(text):\n",
    "    text = text.replace(\"á\", \"a\").replace(\"é\", \"e\").replace(\"í\", \"i\").replace(\"ó\", \"o\").replace(\"ú\", \"u\").lower()\n",
    "\n",
    "    return ''.join(char for char in text if char.isalpha() or char == \"_\")\n",
    "\n",
    "def xor(text, key):\n",
    "    #text = cleanText(text)\n",
    "    #key = cleanText(key)\n",
    "\n",
    "    if len(text) > len(key):\n",
    "        key = key * (len(text) // len(key)) + key[:len(text) % len(key)]\n",
    "    elif len(text) < len(key):\n",
    "        key = key[:len(text)]\n",
    "        \n",
    "    bin1 = ascciToBinary(text).replace(\" \", \"\")\n",
    "    bin2 = ascciToBinary(key).replace(\" \", \"\")\n",
    "\n",
    "    res = \"\"\n",
    "    for i in range(len(bin1)):\n",
    "        if bin1[i] == bin2[i]:\n",
    "            res += \"0\"\n",
    "        else:\n",
    "            res += \"1\"\n",
    "    return res"
   ]
  },
  {
   "cell_type": "markdown",
   "metadata": {},
   "source": [
    "## Problemas"
   ]
  },
  {
   "cell_type": "markdown",
   "metadata": {},
   "source": [
    "## Problema 2"
   ]
  },
  {
   "cell_type": "markdown",
   "metadata": {},
   "source": [
    "Dada la imagen XOR_Imagen, y la llave “cifrados_2025” encontrar el valor original de la imagen."
   ]
  },
  {
   "cell_type": "code",
   "execution_count": null,
   "metadata": {},
   "outputs": [],
   "source": [
    "# Código terminado con ayuda de ChatGpt4o https://chatgpt.com/share/67ad7fae-50bc-8003-afbb-54ae0d784104\n",
    "import base64\n",
    "\n",
    "imageBase64 = None\n",
    "with open(\"./images/xor/imagen_xor.png\", \"rb\") as image:\n",
    "    imageBase64 = base64.b64encode(image.read()).decode()\n",
    "\n",
    "imageBase64 = base64ToAscii(imageBase64)\n",
    "key = \"cifrados_2025\"\n",
    "\n",
    "xorImageBin = xor(imageBase64, key)\n",
    "xorImageBytes = bytearray(int(xorImageBin[i:i+8], 2) for i in range(0, len(xorImageBin), 8))\n",
    "\n",
    "with open(\"./images/xor/imagen_xor_descifrada.png\", \"wb\") as image:\n",
    "    image.write(xorImageBytes)"
   ]
  },
  {
   "cell_type": "markdown",
   "metadata": {},
   "source": [
    "## Problema 3"
   ]
  },
  {
   "cell_type": "markdown",
   "metadata": {},
   "source": [
    "__Investigar porque al aplicar XOR con una llave de texto la imagén se corrompe__\n",
    "\n",
    "Esto se debe a que al aplicar un XOR a la imagen, inevitablemente se compromete el header de ésta. La cual contiene información crucial de la imagen. Tal como metadata, información de copyright (realmente no importa), ajustes de compresión, profundidad de color de la imagen, etc. Esas últimas son de suma importancia, esas y otras hacen que la imagen pueda ser visualizada. Por lo que modificar ciertas partes del header de la imagen hacen que ésta sea ilegible por cualquier visualizador de imágenes. Por lo que la imagen se corrompe al modificarle dichas partes.\n",
    "\n",
    "[Referencia](https://www.quora.com/What-is-the-header-of-an-image)"
   ]
  },
  {
   "cell_type": "markdown",
   "metadata": {},
   "source": [
    "## Problema 4"
   ]
  },
  {
   "cell_type": "markdown",
   "metadata": {},
   "source": [
    "Investigar como aplicar un xor a 2 imagnes. Para esto deben de eleccionar 2 imágenes, luego proceder hacer un xor entre las dos imágenes. Esto significa que una imagen es la original y la otra se utilizará como llave para aplicar el xor."
   ]
  },
  {
   "cell_type": "code",
   "execution_count": 16,
   "metadata": {},
   "outputs": [],
   "source": [
    "# https://stackoverflow.com/questions/54398627/xor-ing-and-summing-two-black-and-white-images\n",
    "from PIL import Image\n",
    "import numpy as np\n",
    "\n",
    "im1 = Image.open(\"./images/merge/imagen3.jpg\")\n",
    "widthIm1, heightIm1 = im1.size\n",
    "im2 = Image.open(\"./images/merge/imagen4.jpg\")\n",
    "widthIm2, heightIm2 = im2.size\n",
    "\n",
    "if widthIm1 != widthIm2 or heightIm1 != heightIm2:\n",
    "    im2 = im2.resize((widthIm1, heightIm1), Image.LANCZOS)\n",
    "\n",
    "# Make into Numpy arrays\n",
    "im1np = np.array(im1)*255\n",
    "im2np = np.array(im2)*255\n",
    "\n",
    "# XOR with Numpy\n",
    "result = np.bitwise_xor(im1np, im2np).astype(np.uint8)\n",
    "\n",
    "# Convert back to PIL image and save\n",
    "Image.fromarray(result).save('./images/merge/result.jpg')"
   ]
  }
 ],
 "metadata": {
  "kernelspec": {
   "display_name": "Python 3",
   "language": "python",
   "name": "python3"
  },
  "language_info": {
   "codemirror_mode": {
    "name": "ipython",
    "version": 3
   },
   "file_extension": ".py",
   "mimetype": "text/x-python",
   "name": "python",
   "nbconvert_exporter": "python",
   "pygments_lexer": "ipython3",
   "version": "3.10.2"
  }
 },
 "nbformat": 4,
 "nbformat_minor": 2
}
