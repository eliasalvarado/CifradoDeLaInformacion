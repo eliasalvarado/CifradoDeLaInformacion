{
 "cells": [
  {
   "cell_type": "markdown",
   "metadata": {},
   "source": [
    "# Lab 2A – Base 64 y XOR"
   ]
  },
  {
   "cell_type": "markdown",
   "metadata": {},
   "source": [
    "## Problema 1"
   ]
  },
  {
   "cell_type": "markdown",
   "metadata": {},
   "source": [
    "Implementar una función para convertir una cadena de caracteres a bits. Por cada\n",
    "carácter de la cadena encontrar la represencación en bytes (8 bits) del valor ASCII de dicho carácter. La función debe de devolver la concatenación de todos los bits de la cadena."
   ]
  },
  {
   "cell_type": "code",
   "execution_count": 1,
   "metadata": {},
   "outputs": [
    {
     "name": "stdout",
     "output_type": "stream",
     "text": [
      "01101000 01101111 01101100 01100001 00100000 01101101 01110101 01101110 01100100 01101111\n",
      "01101111 01110100 01110010 01100001 00100000 01110000 01110010 01110101 01100101 01100010 01100001\n"
     ]
    }
   ],
   "source": [
    "def decimalToBinary(decimal, bits=8):\n",
    "    binary = ''\n",
    "    while decimal > 0:\n",
    "        binary = str(decimal % 2) + binary\n",
    "        decimal = decimal // 2\n",
    "    \n",
    "    binary = binary.rjust(bits, '0')\n",
    "    return binary\n",
    "\n",
    "def ascciToBinary(ascci):\n",
    "    return ' '.join(decimalToBinary(ord(char)) for char in ascci)\n",
    "\n",
    "print(ascciToBinary(\"hola mundo\"))\n",
    "print(ascciToBinary(\"otra prueba\"))"
   ]
  },
  {
   "cell_type": "markdown",
   "metadata": {},
   "source": [
    "## Problema 2"
   ]
  },
  {
   "cell_type": "markdown",
   "metadata": {},
   "source": [
    "Implementar una función para convertir una cadena de bytes a caracteres. Por cada\n",
    "grupo de 8 bits encontrar su representante correspondiente en ASCII. La función debe de devolver el texto correspondiente."
   ]
  },
  {
   "cell_type": "code",
   "execution_count": 43,
   "metadata": {},
   "outputs": [
    {
     "name": "stdout",
     "output_type": "stream",
     "text": [
      "hola mundo\n",
      "otra prueba\n"
     ]
    }
   ],
   "source": [
    "def binaryToAscii(binary):\n",
    "    binary = binary.replace(\" \", \"\")\n",
    "    return ''.join(chr(int(binary[i:i + 8], 2)) for i in range(0, len(binary), 8))\n",
    "\n",
    "print(binaryToAscii(\"01101000 01101111 01101100 01100001 00100000 01101101 01110101 01101110 01100100 01101111\"))\n",
    "print(binaryToAscii(\"01101111 01110100 01110010 01100001 00100000 01110000 01110010 01110101 01100101 01100010 01100001\"))"
   ]
  },
  {
   "cell_type": "markdown",
   "metadata": {},
   "source": [
    "## Problema 3"
   ]
  },
  {
   "cell_type": "markdown",
   "metadata": {},
   "source": [
    "Implementar funciones que permitan convertir una cadena de caracteres a Base64, para esto utilizar la conversión manual (texto a binario, binario a codigo UNICODE)"
   ]
  },
  {
   "cell_type": "code",
   "execution_count": 3,
   "metadata": {},
   "outputs": [
    {
     "name": "stdout",
     "output_type": "stream",
     "text": [
      "aG9sYSBtdW5kbw==\n",
      "b3RyYSBwcnVlYmE=\n"
     ]
    }
   ],
   "source": [
    "def binaryToBase64(binary):\n",
    "    index = \"ABCDEFGHIJKLMNOPQRSTUVWXYZabcdefghijklmnopqrstuvwxyz0123456789+/\"\n",
    "    binary = binary.replace(\" \", \"\")\n",
    "    temp = [group for group in [binary[i:i + 6] for i in range(0, len(binary), 6)]]\n",
    "    padding = 0\n",
    "    for i in range(len(temp)):\n",
    "        if len(temp[i]) < 6:\n",
    "            padding = 6 - len(temp[i])\n",
    "            temp[i] = temp[i].ljust(6, \"0\")\n",
    "    return ''.join(index[int(group, 2)] for group in temp if group != \"=\") + \"=\" * (padding // 2)\n",
    "\n",
    "print(binaryToBase64(ascciToBinary(\"hola mundo\")))\n",
    "print(binaryToBase64(ascciToBinary(\"otra prueba\")))"
   ]
  },
  {
   "cell_type": "markdown",
   "metadata": {},
   "source": [
    "## Problema 4"
   ]
  },
  {
   "cell_type": "markdown",
   "metadata": {},
   "source": [
    "Implementar funciones que permitan convertir una cadena de base 64 a su texto correspondiente para esto utilizar la conversión manual (texto UNICODE a binario, binario a Codigos ASCII)."
   ]
  },
  {
   "cell_type": "code",
   "execution_count": 6,
   "metadata": {},
   "outputs": [
    {
     "name": "stdout",
     "output_type": "stream",
     "text": [
      "holaa\u0000\n",
      "hola mundo\u0000\n",
      "otra prueba\u0000\n"
     ]
    }
   ],
   "source": [
    "def base64ToAscii(base64):\n",
    "    index = \"ABCDEFGHIJKLMNOPQRSTUVWXYZabcdefghijklmnopqrstuvwxyz0123456789+/\"\n",
    "    padding = base64.count(\"=\") // 2\n",
    "    base64 = base64.replace(\"=\", \"\")\n",
    "    temp = ''.join(decimalToBinary(index.index(char), bits=6) for char in base64)\n",
    "    temp = temp[0:len(temp) - padding]\n",
    "    return ''.join(chr(int(temp[i:i + 8], 2)) for i in range(0, len(temp), 8))\n",
    "\n",
    "print(base64ToAscii(\"aG9sYWE=\"))\n",
    "print(base64ToAscii(\"aG9sYSBtdW5kbw==\"))\n",
    "print(base64ToAscii(\"b3RyYSBwcnVlYmE=\"))\n"
   ]
  },
  {
   "cell_type": "markdown",
   "metadata": {},
   "source": [
    "## Problema 5"
   ]
  },
  {
   "cell_type": "markdown",
   "metadata": {},
   "source": [
    "Implementar una función que haga la operación XOR, bit a bit, con dos cadenas de\n",
    "texto"
   ]
  },
  {
   "cell_type": "code",
   "execution_count": 25,
   "metadata": {},
   "outputs": [
    {
     "name": "stdout",
     "output_type": "stream",
     "text": [
      "00000111000110110001111000000000000100110001110100011000000010100000011100010010000110110001010100000001\n"
     ]
    }
   ],
   "source": [
    "def cleanText(text):\n",
    "    text = text.replace(\"á\", \"a\").replace(\"é\", \"e\").replace(\"í\", \"i\").replace(\"ó\", \"o\").replace(\"ú\", \"u\").lower()\n",
    "\n",
    "    return ''.join(char for char in text if char.isalpha())\n",
    "\n",
    "def xor(text, key):\n",
    "    text = cleanText(text)\n",
    "    key = cleanText(key)\n",
    "\n",
    "    if len(text) > len(key):\n",
    "        key = key * (len(text) // len(key)) + key[:len(text) % len(key)]\n",
    "    elif len(text) < len(key):\n",
    "        key = key[:len(text)]\n",
    "\n",
    "    bin1 = ascciToBinary(text).replace(\" \", \"\")\n",
    "    bin2 = ascciToBinary(key).replace(\" \", \"\")\n",
    "\n",
    "    res = \"\"\n",
    "    for i in range(len(bin1)):\n",
    "        if bin1[i] == bin2[i]:\n",
    "            res += \"0\"\n",
    "        else:\n",
    "            res += \"1\"\n",
    "    return res\n",
    "\n",
    "print(xor(\"hola como estas\", \"otra prueba\"))"
   ]
  }
 ],
 "metadata": {
  "kernelspec": {
   "display_name": "Python 3",
   "language": "python",
   "name": "python3"
  },
  "language_info": {
   "codemirror_mode": {
    "name": "ipython",
    "version": 3
   },
   "file_extension": ".py",
   "mimetype": "text/x-python",
   "name": "python",
   "nbconvert_exporter": "python",
   "pygments_lexer": "ipython3",
   "version": "3.10.2"
  }
 },
 "nbformat": 4,
 "nbformat_minor": 2
}
